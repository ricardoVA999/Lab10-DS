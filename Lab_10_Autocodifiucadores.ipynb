{
 "cells": [
  {
   "cell_type": "markdown",
   "metadata": {},
   "source": [
    "# Laboratorio 10 - AutoCodificadores"
   ]
  },
  {
   "cell_type": "markdown",
   "metadata": {},
   "source": [
    "## Complete las tareas indicadas abajo\n",
    "\n",
    "**TAREA: Ejecute las siguientes importaciones**"
   ]
  },
  {
   "cell_type": "code",
   "execution_count": 69,
   "metadata": {},
   "outputs": [],
   "source": [
    "import pandas as pd\n",
    "import seaborn as sns\n",
    "import matplotlib.pyplot as plt"
   ]
  },
  {
   "cell_type": "markdown",
   "metadata": {},
   "source": [
    "## Los datos\n",
    "\n",
    "En la tabla que van a trabajar, se encuentra el consumo promedio de 17 tipos de comida, en gramos por persona por semana, para cada país del Reino Unido (UK).\n",
    "\n",
    "La tabla tiene algunas variaciones interesantes en diferentes tipos de comida, pero a nivel general las diferencias no son tan notables.\n",
    "\n",
    "**TAREA:  Ejecute la siguiente instrucción para leer los datos**\n",
    "\n",
    "Es posible que tenga que modificar la instrucción de acuerdo al lugar donde descargó el archivo."
   ]
  },
  {
   "cell_type": "code",
   "execution_count": 70,
   "metadata": {},
   "outputs": [],
   "source": [
    "df = pd.read_csv('UK_foods.csv',index_col='Unnamed: 0')"
   ]
  },
  {
   "cell_type": "markdown",
   "metadata": {},
   "source": [
    "**TAREA: Despliegue el DataFrame**"
   ]
  },
  {
   "cell_type": "code",
   "execution_count": 71,
   "metadata": {},
   "outputs": [
    {
     "data": {
      "text/html": [
       "<div>\n",
       "<style scoped>\n",
       "    .dataframe tbody tr th:only-of-type {\n",
       "        vertical-align: middle;\n",
       "    }\n",
       "\n",
       "    .dataframe tbody tr th {\n",
       "        vertical-align: top;\n",
       "    }\n",
       "\n",
       "    .dataframe thead th {\n",
       "        text-align: right;\n",
       "    }\n",
       "</style>\n",
       "<table border=\"1\" class=\"dataframe\">\n",
       "  <thead>\n",
       "    <tr style=\"text-align: right;\">\n",
       "      <th></th>\n",
       "      <th>England</th>\n",
       "      <th>Wales</th>\n",
       "      <th>Scotland</th>\n",
       "      <th>N.Ireland</th>\n",
       "    </tr>\n",
       "  </thead>\n",
       "  <tbody>\n",
       "    <tr>\n",
       "      <th>Cheese</th>\n",
       "      <td>105</td>\n",
       "      <td>103</td>\n",
       "      <td>103</td>\n",
       "      <td>66</td>\n",
       "    </tr>\n",
       "    <tr>\n",
       "      <th>Carcass_meat</th>\n",
       "      <td>245</td>\n",
       "      <td>227</td>\n",
       "      <td>242</td>\n",
       "      <td>267</td>\n",
       "    </tr>\n",
       "    <tr>\n",
       "      <th>Other_meat</th>\n",
       "      <td>685</td>\n",
       "      <td>803</td>\n",
       "      <td>750</td>\n",
       "      <td>586</td>\n",
       "    </tr>\n",
       "    <tr>\n",
       "      <th>Fish</th>\n",
       "      <td>147</td>\n",
       "      <td>160</td>\n",
       "      <td>122</td>\n",
       "      <td>93</td>\n",
       "    </tr>\n",
       "    <tr>\n",
       "      <th>Fats_and_oils</th>\n",
       "      <td>193</td>\n",
       "      <td>235</td>\n",
       "      <td>184</td>\n",
       "      <td>209</td>\n",
       "    </tr>\n",
       "    <tr>\n",
       "      <th>Sugars</th>\n",
       "      <td>156</td>\n",
       "      <td>175</td>\n",
       "      <td>147</td>\n",
       "      <td>139</td>\n",
       "    </tr>\n",
       "    <tr>\n",
       "      <th>Fresh_potatoes</th>\n",
       "      <td>720</td>\n",
       "      <td>874</td>\n",
       "      <td>566</td>\n",
       "      <td>1033</td>\n",
       "    </tr>\n",
       "    <tr>\n",
       "      <th>Fresh_Veg</th>\n",
       "      <td>253</td>\n",
       "      <td>265</td>\n",
       "      <td>171</td>\n",
       "      <td>143</td>\n",
       "    </tr>\n",
       "    <tr>\n",
       "      <th>Other_Veg</th>\n",
       "      <td>488</td>\n",
       "      <td>570</td>\n",
       "      <td>418</td>\n",
       "      <td>355</td>\n",
       "    </tr>\n",
       "    <tr>\n",
       "      <th>Processed_potatoes</th>\n",
       "      <td>198</td>\n",
       "      <td>203</td>\n",
       "      <td>220</td>\n",
       "      <td>187</td>\n",
       "    </tr>\n",
       "    <tr>\n",
       "      <th>Processed_Veg</th>\n",
       "      <td>360</td>\n",
       "      <td>365</td>\n",
       "      <td>337</td>\n",
       "      <td>334</td>\n",
       "    </tr>\n",
       "    <tr>\n",
       "      <th>Fresh_fruit</th>\n",
       "      <td>1102</td>\n",
       "      <td>1137</td>\n",
       "      <td>957</td>\n",
       "      <td>674</td>\n",
       "    </tr>\n",
       "    <tr>\n",
       "      <th>Cereals</th>\n",
       "      <td>1472</td>\n",
       "      <td>1582</td>\n",
       "      <td>1462</td>\n",
       "      <td>1494</td>\n",
       "    </tr>\n",
       "    <tr>\n",
       "      <th>Beverages</th>\n",
       "      <td>57</td>\n",
       "      <td>73</td>\n",
       "      <td>53</td>\n",
       "      <td>47</td>\n",
       "    </tr>\n",
       "    <tr>\n",
       "      <th>Soft_drinks</th>\n",
       "      <td>1374</td>\n",
       "      <td>1256</td>\n",
       "      <td>1572</td>\n",
       "      <td>1506</td>\n",
       "    </tr>\n",
       "    <tr>\n",
       "      <th>Alcoholic_drinks</th>\n",
       "      <td>375</td>\n",
       "      <td>475</td>\n",
       "      <td>458</td>\n",
       "      <td>135</td>\n",
       "    </tr>\n",
       "    <tr>\n",
       "      <th>Confectionery</th>\n",
       "      <td>54</td>\n",
       "      <td>64</td>\n",
       "      <td>62</td>\n",
       "      <td>41</td>\n",
       "    </tr>\n",
       "  </tbody>\n",
       "</table>\n",
       "</div>"
      ],
      "text/plain": [
       "                     England  Wales  Scotland  N.Ireland\n",
       "Cheese                   105    103       103         66\n",
       "Carcass_meat             245    227       242        267\n",
       "Other_meat               685    803       750        586\n",
       "Fish                     147    160       122         93\n",
       "Fats_and_oils            193    235       184        209\n",
       "Sugars                   156    175       147        139\n",
       "Fresh_potatoes           720    874       566       1033\n",
       "Fresh_Veg                253    265       171        143\n",
       "Other_Veg                488    570       418        355\n",
       "Processed_potatoes       198    203       220        187\n",
       "Processed_Veg            360    365       337        334\n",
       "Fresh_fruit             1102   1137       957        674\n",
       "Cereals                 1472   1582      1462       1494\n",
       "Beverages                 57     73        53         47\n",
       "Soft_drinks             1374   1256      1572       1506\n",
       "Alcoholic_drinks         375    475       458        135\n",
       "Confectionery             54     64        62         41"
      ]
     },
     "execution_count": 71,
     "metadata": {},
     "output_type": "execute_result"
    }
   ],
   "source": [
    "df"
   ]
  },
  {
   "cell_type": "code",
   "execution_count": 72,
   "metadata": {},
   "outputs": [
    {
     "name": "stdout",
     "output_type": "stream",
     "text": [
      "<class 'pandas.core.frame.DataFrame'>\n",
      "Index: 17 entries, Cheese to Confectionery \n",
      "Data columns (total 4 columns):\n",
      " #   Column     Non-Null Count  Dtype\n",
      "---  ------     --------------  -----\n",
      " 0   England    17 non-null     int64\n",
      " 1   Wales      17 non-null     int64\n",
      " 2   Scotland   17 non-null     int64\n",
      " 3   N.Ireland  17 non-null     int64\n",
      "dtypes: int64(4)\n",
      "memory usage: 680.0+ bytes\n"
     ]
    }
   ],
   "source": [
    "df.info()"
   ]
  },
  {
   "cell_type": "markdown",
   "metadata": {},
   "source": [
    "**TAREA:  Realice la transposición del DataFrame para que las columnas se conviertan en el índice.**"
   ]
  },
  {
   "cell_type": "code",
   "execution_count": 73,
   "metadata": {},
   "outputs": [],
   "source": [
    "df_t = df.transpose()"
   ]
  },
  {
   "cell_type": "code",
   "execution_count": 74,
   "metadata": {},
   "outputs": [
    {
     "data": {
      "text/html": [
       "<div>\n",
       "<style scoped>\n",
       "    .dataframe tbody tr th:only-of-type {\n",
       "        vertical-align: middle;\n",
       "    }\n",
       "\n",
       "    .dataframe tbody tr th {\n",
       "        vertical-align: top;\n",
       "    }\n",
       "\n",
       "    .dataframe thead th {\n",
       "        text-align: right;\n",
       "    }\n",
       "</style>\n",
       "<table border=\"1\" class=\"dataframe\">\n",
       "  <thead>\n",
       "    <tr style=\"text-align: right;\">\n",
       "      <th></th>\n",
       "      <th>Cheese</th>\n",
       "      <th>Carcass_meat</th>\n",
       "      <th>Other_meat</th>\n",
       "      <th>Fish</th>\n",
       "      <th>Fats_and_oils</th>\n",
       "      <th>Sugars</th>\n",
       "      <th>Fresh_potatoes</th>\n",
       "      <th>Fresh_Veg</th>\n",
       "      <th>Other_Veg</th>\n",
       "      <th>Processed_potatoes</th>\n",
       "      <th>Processed_Veg</th>\n",
       "      <th>Fresh_fruit</th>\n",
       "      <th>Cereals</th>\n",
       "      <th>Beverages</th>\n",
       "      <th>Soft_drinks</th>\n",
       "      <th>Alcoholic_drinks</th>\n",
       "      <th>Confectionery</th>\n",
       "    </tr>\n",
       "  </thead>\n",
       "  <tbody>\n",
       "    <tr>\n",
       "      <th>England</th>\n",
       "      <td>105</td>\n",
       "      <td>245</td>\n",
       "      <td>685</td>\n",
       "      <td>147</td>\n",
       "      <td>193</td>\n",
       "      <td>156</td>\n",
       "      <td>720</td>\n",
       "      <td>253</td>\n",
       "      <td>488</td>\n",
       "      <td>198</td>\n",
       "      <td>360</td>\n",
       "      <td>1102</td>\n",
       "      <td>1472</td>\n",
       "      <td>57</td>\n",
       "      <td>1374</td>\n",
       "      <td>375</td>\n",
       "      <td>54</td>\n",
       "    </tr>\n",
       "    <tr>\n",
       "      <th>Wales</th>\n",
       "      <td>103</td>\n",
       "      <td>227</td>\n",
       "      <td>803</td>\n",
       "      <td>160</td>\n",
       "      <td>235</td>\n",
       "      <td>175</td>\n",
       "      <td>874</td>\n",
       "      <td>265</td>\n",
       "      <td>570</td>\n",
       "      <td>203</td>\n",
       "      <td>365</td>\n",
       "      <td>1137</td>\n",
       "      <td>1582</td>\n",
       "      <td>73</td>\n",
       "      <td>1256</td>\n",
       "      <td>475</td>\n",
       "      <td>64</td>\n",
       "    </tr>\n",
       "    <tr>\n",
       "      <th>Scotland</th>\n",
       "      <td>103</td>\n",
       "      <td>242</td>\n",
       "      <td>750</td>\n",
       "      <td>122</td>\n",
       "      <td>184</td>\n",
       "      <td>147</td>\n",
       "      <td>566</td>\n",
       "      <td>171</td>\n",
       "      <td>418</td>\n",
       "      <td>220</td>\n",
       "      <td>337</td>\n",
       "      <td>957</td>\n",
       "      <td>1462</td>\n",
       "      <td>53</td>\n",
       "      <td>1572</td>\n",
       "      <td>458</td>\n",
       "      <td>62</td>\n",
       "    </tr>\n",
       "    <tr>\n",
       "      <th>N.Ireland</th>\n",
       "      <td>66</td>\n",
       "      <td>267</td>\n",
       "      <td>586</td>\n",
       "      <td>93</td>\n",
       "      <td>209</td>\n",
       "      <td>139</td>\n",
       "      <td>1033</td>\n",
       "      <td>143</td>\n",
       "      <td>355</td>\n",
       "      <td>187</td>\n",
       "      <td>334</td>\n",
       "      <td>674</td>\n",
       "      <td>1494</td>\n",
       "      <td>47</td>\n",
       "      <td>1506</td>\n",
       "      <td>135</td>\n",
       "      <td>41</td>\n",
       "    </tr>\n",
       "  </tbody>\n",
       "</table>\n",
       "</div>"
      ],
      "text/plain": [
       "           Cheese  Carcass_meat   Other_meat   Fish  Fats_and_oils   Sugars  \\\n",
       "England       105            245          685   147             193     156   \n",
       "Wales         103            227          803   160             235     175   \n",
       "Scotland      103            242          750   122             184     147   \n",
       "N.Ireland      66            267          586    93             209     139   \n",
       "\n",
       "           Fresh_potatoes   Fresh_Veg   Other_Veg   Processed_potatoes   \\\n",
       "England                720         253         488                  198   \n",
       "Wales                  874         265         570                  203   \n",
       "Scotland               566         171         418                  220   \n",
       "N.Ireland             1033         143         355                  187   \n",
       "\n",
       "           Processed_Veg   Fresh_fruit   Cereals   Beverages  Soft_drinks   \\\n",
       "England               360          1102      1472         57          1374   \n",
       "Wales                 365          1137      1582         73          1256   \n",
       "Scotland              337           957      1462         53          1572   \n",
       "N.Ireland             334           674      1494         47          1506   \n",
       "\n",
       "           Alcoholic_drinks   Confectionery   \n",
       "England                  375              54  \n",
       "Wales                    475              64  \n",
       "Scotland                 458              62  \n",
       "N.Ireland                135              41  "
      ]
     },
     "execution_count": 74,
     "metadata": {},
     "output_type": "execute_result"
    }
   ],
   "source": [
    "df_t"
   ]
  },
  {
   "cell_type": "markdown",
   "metadata": {},
   "source": [
    "**TAREA:  Cree un mapa de calor a partir del DataFrame.** \n",
    "\n",
    "¿Existe algún país que sobresalga por diferencia de los otros?  Puede ser bastante difícil determinar esto solo por la imagen.\n",
    "\n",
    "¿Habrá algún par de países que parezcan muy similares entre si?\n",
    "\n"
   ]
  },
  {
   "cell_type": "code",
   "execution_count": 75,
   "metadata": {},
   "outputs": [
    {
     "data": {
      "text/plain": [
       "<AxesSubplot:>"
      ]
     },
     "execution_count": 75,
     "metadata": {},
     "output_type": "execute_result"
    },
    {
     "data": {
      "image/png": "[encoded data removed]",
      "text/plain": [
       "<Figure size 1296x432 with 2 Axes>"
      ]
     },
     "metadata": {
      "needs_background": "light"
     },
     "output_type": "display_data"
    }
   ],
   "source": [
    "sns.heatmap(df_t, cmap='RdYlGn_r', linewidths=0.5, annot=True)"
   ]
  },
  {
   "cell_type": "code",
   "execution_count": 76,
   "metadata": {
    "scrolled": true
   },
   "outputs": [
    {
     "data": {
      "text/html": [
       "<style type=\"text/css\">\n",
       "#T_7c3b3_row0_col0, #T_7c3b3_row1_col2, #T_7c3b3_row1_col3, #T_7c3b3_row1_col4, #T_7c3b3_row1_col5, #T_7c3b3_row1_col7, #T_7c3b3_row1_col8, #T_7c3b3_row1_col10, #T_7c3b3_row1_col11, #T_7c3b3_row1_col12, #T_7c3b3_row1_col13, #T_7c3b3_row1_col15, #T_7c3b3_row1_col16, #T_7c3b3_row2_col9, #T_7c3b3_row2_col14, #T_7c3b3_row3_col1, #T_7c3b3_row3_col6 {\n",
       "  background-color: #08306b;\n",
       "  color: #f1f1f1;\n",
       "}\n",
       "#T_7c3b3_row0_col1 {\n",
       "  background-color: #7fb9da;\n",
       "  color: #000000;\n",
       "}\n",
       "#T_7c3b3_row0_col2 {\n",
       "  background-color: #7db8da;\n",
       "  color: #000000;\n",
       "}\n",
       "#T_7c3b3_row0_col3 {\n",
       "  background-color: #1562a9;\n",
       "  color: #f1f1f1;\n",
       "}\n",
       "#T_7c3b3_row0_col4 {\n",
       "  background-color: #d4e4f4;\n",
       "  color: #000000;\n",
       "}\n",
       "#T_7c3b3_row0_col5 {\n",
       "  background-color: #77b5d9;\n",
       "  color: #000000;\n",
       "}\n",
       "#T_7c3b3_row0_col6 {\n",
       "  background-color: #add0e6;\n",
       "  color: #000000;\n",
       "}\n",
       "#T_7c3b3_row0_col7 {\n",
       "  background-color: #084a91;\n",
       "  color: #f1f1f1;\n",
       "}\n",
       "#T_7c3b3_row0_col8 {\n",
       "  background-color: #4493c7;\n",
       "  color: #f1f1f1;\n",
       "}\n",
       "#T_7c3b3_row0_col9 {\n",
       "  background-color: #abd0e6;\n",
       "  color: #000000;\n",
       "}\n",
       "#T_7c3b3_row0_col10 {\n",
       "  background-color: #0f5aa3;\n",
       "  color: #f1f1f1;\n",
       "}\n",
       "#T_7c3b3_row0_col11 {\n",
       "  background-color: #084488;\n",
       "  color: #f1f1f1;\n",
       "}\n",
       "#T_7c3b3_row0_col12 {\n",
       "  background-color: #e7f0fa;\n",
       "  color: #000000;\n",
       "}\n",
       "#T_7c3b3_row0_col13 {\n",
       "  background-color: #9ac8e0;\n",
       "  color: #000000;\n",
       "}\n",
       "#T_7c3b3_row0_col14 {\n",
       "  background-color: #9fcae1;\n",
       "  color: #000000;\n",
       "}\n",
       "#T_7c3b3_row0_col15 {\n",
       "  background-color: #2d7dbb;\n",
       "  color: #f1f1f1;\n",
       "}\n",
       "#T_7c3b3_row0_col16 {\n",
       "  background-color: #56a0ce;\n",
       "  color: #f1f1f1;\n",
       "}\n",
       "#T_7c3b3_row1_col0, #T_7c3b3_row2_col0 {\n",
       "  background-color: #083d7f;\n",
       "  color: #f1f1f1;\n",
       "}\n",
       "#T_7c3b3_row1_col1, #T_7c3b3_row1_col14, #T_7c3b3_row2_col4, #T_7c3b3_row2_col6, #T_7c3b3_row2_col12, #T_7c3b3_row3_col0, #T_7c3b3_row3_col2, #T_7c3b3_row3_col3, #T_7c3b3_row3_col5, #T_7c3b3_row3_col7, #T_7c3b3_row3_col8, #T_7c3b3_row3_col9, #T_7c3b3_row3_col10, #T_7c3b3_row3_col11, #T_7c3b3_row3_col13, #T_7c3b3_row3_col15, #T_7c3b3_row3_col16 {\n",
       "  background-color: #f7fbff;\n",
       "  color: #000000;\n",
       "}\n",
       "#T_7c3b3_row1_col6 {\n",
       "  background-color: #3989c1;\n",
       "  color: #f1f1f1;\n",
       "}\n",
       "#T_7c3b3_row1_col9 {\n",
       "  background-color: #71b1d7;\n",
       "  color: #f1f1f1;\n",
       "}\n",
       "#T_7c3b3_row2_col1 {\n",
       "  background-color: #9dcae1;\n",
       "  color: #000000;\n",
       "}\n",
       "#T_7c3b3_row2_col2 {\n",
       "  background-color: #206fb4;\n",
       "  color: #f1f1f1;\n",
       "}\n",
       "#T_7c3b3_row2_col3 {\n",
       "  background-color: #87bddc;\n",
       "  color: #000000;\n",
       "}\n",
       "#T_7c3b3_row2_col5 {\n",
       "  background-color: #ccdff1;\n",
       "  color: #000000;\n",
       "}\n",
       "#T_7c3b3_row2_col7 {\n",
       "  background-color: #cadef0;\n",
       "  color: #000000;\n",
       "}\n",
       "#T_7c3b3_row2_col8 {\n",
       "  background-color: #b8d5ea;\n",
       "  color: #000000;\n",
       "}\n",
       "#T_7c3b3_row2_col10 {\n",
       "  background-color: #e4eff9;\n",
       "  color: #000000;\n",
       "}\n",
       "#T_7c3b3_row2_col11 {\n",
       "  background-color: #4695c8;\n",
       "  color: #f1f1f1;\n",
       "}\n",
       "#T_7c3b3_row2_col13 {\n",
       "  background-color: #caddf0;\n",
       "  color: #000000;\n",
       "}\n",
       "#T_7c3b3_row2_col15 {\n",
       "  background-color: #083c7d;\n",
       "  color: #f1f1f1;\n",
       "}\n",
       "#T_7c3b3_row2_col16 {\n",
       "  background-color: #08478d;\n",
       "  color: #f1f1f1;\n",
       "}\n",
       "#T_7c3b3_row3_col4 {\n",
       "  background-color: #6fb0d7;\n",
       "  color: #f1f1f1;\n",
       "}\n",
       "#T_7c3b3_row3_col12 {\n",
       "  background-color: #c1d9ed;\n",
       "  color: #000000;\n",
       "}\n",
       "#T_7c3b3_row3_col14 {\n",
       "  background-color: #1966ad;\n",
       "  color: #f1f1f1;\n",
       "}\n",
       "</style>\n",
       "<table id=\"T_7c3b3_\">\n",
       "  <thead>\n",
       "    <tr>\n",
       "      <th class=\"blank level0\" >&nbsp;</th>\n",
       "      <th class=\"col_heading level0 col0\" >Cheese</th>\n",
       "      <th class=\"col_heading level0 col1\" >Carcass_meat </th>\n",
       "      <th class=\"col_heading level0 col2\" >Other_meat </th>\n",
       "      <th class=\"col_heading level0 col3\" >Fish</th>\n",
       "      <th class=\"col_heading level0 col4\" >Fats_and_oils </th>\n",
       "      <th class=\"col_heading level0 col5\" >Sugars</th>\n",
       "      <th class=\"col_heading level0 col6\" >Fresh_potatoes </th>\n",
       "      <th class=\"col_heading level0 col7\" >Fresh_Veg </th>\n",
       "      <th class=\"col_heading level0 col8\" >Other_Veg </th>\n",
       "      <th class=\"col_heading level0 col9\" >Processed_potatoes </th>\n",
       "      <th class=\"col_heading level0 col10\" >Processed_Veg </th>\n",
       "      <th class=\"col_heading level0 col11\" >Fresh_fruit </th>\n",
       "      <th class=\"col_heading level0 col12\" >Cereals </th>\n",
       "      <th class=\"col_heading level0 col13\" >Beverages</th>\n",
       "      <th class=\"col_heading level0 col14\" >Soft_drinks </th>\n",
       "      <th class=\"col_heading level0 col15\" >Alcoholic_drinks </th>\n",
       "      <th class=\"col_heading level0 col16\" >Confectionery </th>\n",
       "    </tr>\n",
       "  </thead>\n",
       "  <tbody>\n",
       "    <tr>\n",
       "      <th id=\"T_7c3b3_level0_row0\" class=\"row_heading level0 row0\" >England</th>\n",
       "      <td id=\"T_7c3b3_row0_col0\" class=\"data row0 col0\" >105</td>\n",
       "      <td id=\"T_7c3b3_row0_col1\" class=\"data row0 col1\" >245</td>\n",
       "      <td id=\"T_7c3b3_row0_col2\" class=\"data row0 col2\" >685</td>\n",
       "      <td id=\"T_7c3b3_row0_col3\" class=\"data row0 col3\" >147</td>\n",
       "      <td id=\"T_7c3b3_row0_col4\" class=\"data row0 col4\" >193</td>\n",
       "      <td id=\"T_7c3b3_row0_col5\" class=\"data row0 col5\" >156</td>\n",
       "      <td id=\"T_7c3b3_row0_col6\" class=\"data row0 col6\" >720</td>\n",
       "      <td id=\"T_7c3b3_row0_col7\" class=\"data row0 col7\" >253</td>\n",
       "      <td id=\"T_7c3b3_row0_col8\" class=\"data row0 col8\" >488</td>\n",
       "      <td id=\"T_7c3b3_row0_col9\" class=\"data row0 col9\" >198</td>\n",
       "      <td id=\"T_7c3b3_row0_col10\" class=\"data row0 col10\" >360</td>\n",
       "      <td id=\"T_7c3b3_row0_col11\" class=\"data row0 col11\" >1102</td>\n",
       "      <td id=\"T_7c3b3_row0_col12\" class=\"data row0 col12\" >1472</td>\n",
       "      <td id=\"T_7c3b3_row0_col13\" class=\"data row0 col13\" >57</td>\n",
       "      <td id=\"T_7c3b3_row0_col14\" class=\"data row0 col14\" >1374</td>\n",
       "      <td id=\"T_7c3b3_row0_col15\" class=\"data row0 col15\" >375</td>\n",
       "      <td id=\"T_7c3b3_row0_col16\" class=\"data row0 col16\" >54</td>\n",
       "    </tr>\n",
       "    <tr>\n",
       "      <th id=\"T_7c3b3_level0_row1\" class=\"row_heading level0 row1\" >Wales</th>\n",
       "      <td id=\"T_7c3b3_row1_col0\" class=\"data row1 col0\" >103</td>\n",
       "      <td id=\"T_7c3b3_row1_col1\" class=\"data row1 col1\" >227</td>\n",
       "      <td id=\"T_7c3b3_row1_col2\" class=\"data row1 col2\" >803</td>\n",
       "      <td id=\"T_7c3b3_row1_col3\" class=\"data row1 col3\" >160</td>\n",
       "      <td id=\"T_7c3b3_row1_col4\" class=\"data row1 col4\" >235</td>\n",
       "      <td id=\"T_7c3b3_row1_col5\" class=\"data row1 col5\" >175</td>\n",
       "      <td id=\"T_7c3b3_row1_col6\" class=\"data row1 col6\" >874</td>\n",
       "      <td id=\"T_7c3b3_row1_col7\" class=\"data row1 col7\" >265</td>\n",
       "      <td id=\"T_7c3b3_row1_col8\" class=\"data row1 col8\" >570</td>\n",
       "      <td id=\"T_7c3b3_row1_col9\" class=\"data row1 col9\" >203</td>\n",
       "      <td id=\"T_7c3b3_row1_col10\" class=\"data row1 col10\" >365</td>\n",
       "      <td id=\"T_7c3b3_row1_col11\" class=\"data row1 col11\" >1137</td>\n",
       "      <td id=\"T_7c3b3_row1_col12\" class=\"data row1 col12\" >1582</td>\n",
       "      <td id=\"T_7c3b3_row1_col13\" class=\"data row1 col13\" >73</td>\n",
       "      <td id=\"T_7c3b3_row1_col14\" class=\"data row1 col14\" >1256</td>\n",
       "      <td id=\"T_7c3b3_row1_col15\" class=\"data row1 col15\" >475</td>\n",
       "      <td id=\"T_7c3b3_row1_col16\" class=\"data row1 col16\" >64</td>\n",
       "    </tr>\n",
       "    <tr>\n",
       "      <th id=\"T_7c3b3_level0_row2\" class=\"row_heading level0 row2\" >Scotland</th>\n",
       "      <td id=\"T_7c3b3_row2_col0\" class=\"data row2 col0\" >103</td>\n",
       "      <td id=\"T_7c3b3_row2_col1\" class=\"data row2 col1\" >242</td>\n",
       "      <td id=\"T_7c3b3_row2_col2\" class=\"data row2 col2\" >750</td>\n",
       "      <td id=\"T_7c3b3_row2_col3\" class=\"data row2 col3\" >122</td>\n",
       "      <td id=\"T_7c3b3_row2_col4\" class=\"data row2 col4\" >184</td>\n",
       "      <td id=\"T_7c3b3_row2_col5\" class=\"data row2 col5\" >147</td>\n",
       "      <td id=\"T_7c3b3_row2_col6\" class=\"data row2 col6\" >566</td>\n",
       "      <td id=\"T_7c3b3_row2_col7\" class=\"data row2 col7\" >171</td>\n",
       "      <td id=\"T_7c3b3_row2_col8\" class=\"data row2 col8\" >418</td>\n",
       "      <td id=\"T_7c3b3_row2_col9\" class=\"data row2 col9\" >220</td>\n",
       "      <td id=\"T_7c3b3_row2_col10\" class=\"data row2 col10\" >337</td>\n",
       "      <td id=\"T_7c3b3_row2_col11\" class=\"data row2 col11\" >957</td>\n",
       "      <td id=\"T_7c3b3_row2_col12\" class=\"data row2 col12\" >1462</td>\n",
       "      <td id=\"T_7c3b3_row2_col13\" class=\"data row2 col13\" >53</td>\n",
       "      <td id=\"T_7c3b3_row2_col14\" class=\"data row2 col14\" >1572</td>\n",
       "      <td id=\"T_7c3b3_row2_col15\" class=\"data row2 col15\" >458</td>\n",
       "      <td id=\"T_7c3b3_row2_col16\" class=\"data row2 col16\" >62</td>\n",
       "    </tr>\n",
       "    <tr>\n",
       "      <th id=\"T_7c3b3_level0_row3\" class=\"row_heading level0 row3\" >N.Ireland</th>\n",
       "      <td id=\"T_7c3b3_row3_col0\" class=\"data row3 col0\" >66</td>\n",
       "      <td id=\"T_7c3b3_row3_col1\" class=\"data row3 col1\" >267</td>\n",
       "      <td id=\"T_7c3b3_row3_col2\" class=\"data row3 col2\" >586</td>\n",
       "      <td id=\"T_7c3b3_row3_col3\" class=\"data row3 col3\" >93</td>\n",
       "      <td id=\"T_7c3b3_row3_col4\" class=\"data row3 col4\" >209</td>\n",
       "      <td id=\"T_7c3b3_row3_col5\" class=\"data row3 col5\" >139</td>\n",
       "      <td id=\"T_7c3b3_row3_col6\" class=\"data row3 col6\" >1033</td>\n",
       "      <td id=\"T_7c3b3_row3_col7\" class=\"data row3 col7\" >143</td>\n",
       "      <td id=\"T_7c3b3_row3_col8\" class=\"data row3 col8\" >355</td>\n",
       "      <td id=\"T_7c3b3_row3_col9\" class=\"data row3 col9\" >187</td>\n",
       "      <td id=\"T_7c3b3_row3_col10\" class=\"data row3 col10\" >334</td>\n",
       "      <td id=\"T_7c3b3_row3_col11\" class=\"data row3 col11\" >674</td>\n",
       "      <td id=\"T_7c3b3_row3_col12\" class=\"data row3 col12\" >1494</td>\n",
       "      <td id=\"T_7c3b3_row3_col13\" class=\"data row3 col13\" >47</td>\n",
       "      <td id=\"T_7c3b3_row3_col14\" class=\"data row3 col14\" >1506</td>\n",
       "      <td id=\"T_7c3b3_row3_col15\" class=\"data row3 col15\" >135</td>\n",
       "      <td id=\"T_7c3b3_row3_col16\" class=\"data row3 col16\" >41</td>\n",
       "    </tr>\n",
       "  </tbody>\n",
       "</table>\n"
      ],
      "text/plain": [
       "<pandas.io.formats.style.Styler at 0x27315677d88>"
      ]
     },
     "execution_count": 76,
     "metadata": {},
     "output_type": "execute_result"
    }
   ],
   "source": [
    "df_t.style.background_gradient(cmap='Blues')"
   ]
  },
  {
   "cell_type": "markdown",
   "metadata": {},
   "source": [
    "Pareciera ser que WALES suele diferenciarce bastante en relacion al consumo de varias comidas con otros paises, esto principalemente se ve en other_meat, fish, fats_and_oils, sugars, other_veg y cereals. Esto tambien se pueded decir de N.Ireland que suele tener el consumo mas bajo de la mayoria de productos.  \n",
    "Los paises que mas se parecen definitivamente son England y scotland, sus consumos se mantienen bastante cercanos exceptuando ciertas comidas."
   ]
  },
  {
   "cell_type": "markdown",
   "metadata": {},
   "source": [
    "**TAREA:  Realice las importaciones necesarias para construir un AutoCodificador.  La meta será reducir las dimensiones de 17 --> 2 y ver si hay países que resalten como diferentes.**"
   ]
  },
  {
   "cell_type": "code",
   "execution_count": 77,
   "metadata": {},
   "outputs": [],
   "source": [
    "from tensorflow.keras.models import Sequential\n",
    "from tensorflow.keras.layers import Dense,Flatten,Reshape\n",
    "from tensorflow.keras.optimizers import SGD\n",
    "from sklearn.preprocessing import MinMaxScaler"
   ]
  },
  {
   "cell_type": "markdown",
   "metadata": {},
   "source": [
    "**TAREA:  Cree un codificador**"
   ]
  },
  {
   "cell_type": "code",
   "execution_count": 78,
   "metadata": {},
   "outputs": [],
   "source": [
    "codificador = Sequential()\n",
    "codificador.add(Dense(units = 2,\n",
    "                      activation = 'relu',\n",
    "                      input_shape = [17]))"
   ]
  },
  {
   "cell_type": "markdown",
   "metadata": {},
   "source": [
    "**TAREA: Cree un decodificador.**"
   ]
  },
  {
   "cell_type": "code",
   "execution_count": 79,
   "metadata": {},
   "outputs": [],
   "source": [
    "decodificador = Sequential()\n",
    "decodificador.add(Dense(units = 17,\n",
    "                        activation = 'relu',\n",
    "                        input_shape = [2]))"
   ]
  },
  {
   "cell_type": "markdown",
   "metadata": {},
   "source": [
    "**TAREA: Combine el codificador y el decodificador para conformar un AutoCodificador, y complile el modelo.**"
   ]
  },
  {
   "cell_type": "code",
   "execution_count": 80,
   "metadata": {},
   "outputs": [],
   "source": [
    "autocodificador = Sequential([codificador,\n",
    "                              decodificador])\n",
    "autocodificador.compile(loss = \"mse\",\n",
    "                        optimizer = SGD(learning_rate = 1.5))"
   ]
  },
  {
   "cell_type": "markdown",
   "metadata": {},
   "source": [
    "**TAREA: Cree un escalador MinMaxScaler para normalizar (escalar) los datos.  Asegúrese de transponer los datos ya que realmente tenemos 17 columnas (features) y solo 4 filas (uno por país).**"
   ]
  },
  {
   "cell_type": "code",
   "execution_count": 81,
   "metadata": {},
   "outputs": [
    {
     "data": {
      "text/plain": [
       "array([[1.        , 0.45      , 0.4562212 , 0.80597015, 0.17647059,\n",
       "        0.47222222, 0.32976445, 0.90163934, 0.61860465, 0.33333333,\n",
       "        0.83870968, 0.92440605, 0.08333333, 0.38461538, 0.37341772,\n",
       "        0.70588235, 0.56521739],\n",
       "       [0.94871795, 0.        , 1.        , 1.        , 1.        ,\n",
       "        1.        , 0.65952891, 1.        , 1.        , 0.48484848,\n",
       "        1.        , 1.        , 1.        , 1.        , 0.        ,\n",
       "        1.        , 1.        ],\n",
       "       [0.94871795, 0.375     , 0.75576037, 0.43283582, 0.        ,\n",
       "        0.22222222, 0.        , 0.2295082 , 0.29302326, 1.        ,\n",
       "        0.09677419, 0.6112311 , 0.        , 0.23076923, 1.        ,\n",
       "        0.95      , 0.91304348],\n",
       "       [0.        , 1.        , 0.        , 0.        , 0.49019608,\n",
       "        0.        , 1.        , 0.        , 0.        , 0.        ,\n",
       "        0.        , 0.        , 0.26666667, 0.        , 0.79113924,\n",
       "        0.        , 0.        ]])"
      ]
     },
     "execution_count": 81,
     "metadata": {},
     "output_type": "execute_result"
    }
   ],
   "source": [
    "escalador = MinMaxScaler()\n",
    "df_es = escalador.fit_transform(df_t)\n",
    "df_es"
   ]
  },
  {
   "cell_type": "code",
   "execution_count": 82,
   "metadata": {},
   "outputs": [
    {
     "data": {
      "text/plain": [
       "(4, 17)"
      ]
     },
     "execution_count": 82,
     "metadata": {},
     "output_type": "execute_result"
    }
   ],
   "source": [
    "df_es.shape"
   ]
  },
  {
   "cell_type": "code",
   "execution_count": null,
   "metadata": {},
   "outputs": [],
   "source": [
    "# NOTA la forma debe ser 17 columnas por 4 filas."
   ]
  },
  {
   "cell_type": "markdown",
   "metadata": {},
   "source": [
    "**TAREA:  Ajuste el AutoCodificador a los datos normalizados por medio de 15 épocas.**"
   ]
  },
  {
   "cell_type": "code",
   "execution_count": 83,
   "metadata": {},
   "outputs": [
    {
     "name": "stdout",
     "output_type": "stream",
     "text": [
      "Epoch 1/15\n",
      "1/1 [==============================] - 0s 204ms/step - loss: 0.3961\n",
      "Epoch 2/15\n",
      "1/1 [==============================] - 0s 3ms/step - loss: 0.3529\n",
      "Epoch 3/15\n",
      "1/1 [==============================] - 0s 3ms/step - loss: 0.2941\n",
      "Epoch 4/15\n",
      "1/1 [==============================] - 0s 3ms/step - loss: 0.2724\n",
      "Epoch 5/15\n",
      "1/1 [==============================] - 0s 4ms/step - loss: 0.2620\n",
      "Epoch 6/15\n",
      "1/1 [==============================] - 0s 3ms/step - loss: 0.2568\n",
      "Epoch 7/15\n",
      "1/1 [==============================] - 0s 3ms/step - loss: 0.2536\n",
      "Epoch 8/15\n",
      "1/1 [==============================] - 0s 4ms/step - loss: 0.2513\n",
      "Epoch 9/15\n",
      "1/1 [==============================] - 0s 3ms/step - loss: 0.2495\n",
      "Epoch 10/15\n",
      "1/1 [==============================] - 0s 2ms/step - loss: 0.2479\n",
      "Epoch 11/15\n",
      "1/1 [==============================] - 0s 3ms/step - loss: 0.2466\n",
      "Epoch 12/15\n",
      "1/1 [==============================] - 0s 2ms/step - loss: 0.2454\n",
      "Epoch 13/15\n",
      "1/1 [==============================] - 0s 2ms/step - loss: 0.2444\n",
      "Epoch 14/15\n",
      "1/1 [==============================] - 0s 2ms/step - loss: 0.2435\n",
      "Epoch 15/15\n",
      "1/1 [==============================] - 0s 2ms/step - loss: 0.2426\n"
     ]
    },
    {
     "data": {
      "text/plain": [
       "<keras.callbacks.History at 0x273154a5dc8>"
      ]
     },
     "execution_count": 83,
     "metadata": {},
     "output_type": "execute_result"
    }
   ],
   "source": [
    "autocodificador.fit(df_es, df_es, epochs = 15)"
   ]
  },
  {
   "cell_type": "markdown",
   "metadata": {},
   "source": [
    "**TAREA: Pase los datos normalizados solo por el codificador y prediga la salida ya re-dimensionada.  Nota: Lo más seguro es que obtengan resultados diferentes debido a las inicializaciones al azar.**"
   ]
  },
  {
   "cell_type": "code",
   "execution_count": 88,
   "metadata": {},
   "outputs": [],
   "source": [
    "results_cod = codificador.predict(df_es)"
   ]
  },
  {
   "cell_type": "code",
   "execution_count": 89,
   "metadata": {},
   "outputs": [
    {
     "data": {
      "text/plain": [
       "(4, 2)"
      ]
     },
     "execution_count": 89,
     "metadata": {},
     "output_type": "execute_result"
    }
   ],
   "source": [
    "results_cod.shape"
   ]
  },
  {
   "cell_type": "code",
   "execution_count": 90,
   "metadata": {
    "scrolled": true
   },
   "outputs": [
    {
     "data": {
      "text/plain": [
       "array([[0.       , 1.4421391],\n",
       "       [0.       , 2.6333961],\n",
       "       [0.       , 1.186027 ],\n",
       "       [1.0020742, 0.       ]], dtype=float32)"
      ]
     },
     "execution_count": 90,
     "metadata": {},
     "output_type": "execute_result"
    }
   ],
   "source": [
    "results_cod"
   ]
  },
  {
   "cell_type": "markdown",
   "metadata": {},
   "source": [
    "**TAREA:  Una los datos codificados bidimensionales, con el indice original de países.  Asegúrese de verificar el orden del índice para asegurar que quede unido correctamente.  Hay muchas formas de hacer esto con Pandas.**"
   ]
  },
  {
   "cell_type": "code",
   "execution_count": 102,
   "metadata": {},
   "outputs": [
    {
     "data": {
      "text/plain": [
       "array([[0.7543795 , 0.17328823, 0.        , 0.6058993 , 0.        ,\n",
       "        0.        , 0.34599584, 0.605881  , 0.        , 0.        ,\n",
       "        0.        , 0.68239504, 0.34017158, 0.        , 0.        ,\n",
       "        0.        , 0.6959927 ],\n",
       "       [1.2308922 , 0.29580617, 0.        , 1.0884795 , 0.        ,\n",
       "        0.        , 0.53658396, 1.0512692 , 0.        , 0.        ,\n",
       "        0.        , 1.1353012 , 0.7227038 , 0.        , 0.        ,\n",
       "        0.        , 1.0761653 ],\n",
       "       [0.6519326 , 0.14694771, 0.        , 0.50214785, 0.        ,\n",
       "        0.        , 0.30502072, 0.5101256 , 0.        , 0.        ,\n",
       "        0.        , 0.58502334, 0.25792977, 0.        , 0.        ,\n",
       "        0.        , 0.6142582 ],\n",
       "       [0.2595735 , 0.        , 0.        , 0.0976738 , 0.371966  ,\n",
       "        0.08108671, 0.7916601 , 0.        , 0.11174357, 0.        ,\n",
       "        0.        , 0.24898995, 0.        , 0.0020743 , 0.        ,\n",
       "        0.        , 0.10257886]], dtype=float32)"
      ]
     },
     "execution_count": 102,
     "metadata": {},
     "output_type": "execute_result"
    }
   ],
   "source": [
    "results_auto = autocodificador.predict(df_es)\n",
    "results_auto"
   ]
  },
  {
   "cell_type": "code",
   "execution_count": null,
   "metadata": {},
   "outputs": [],
   "source": []
  },
  {
   "cell_type": "code",
   "execution_count": null,
   "metadata": {},
   "outputs": [],
   "source": []
  },
  {
   "cell_type": "code",
   "execution_count": null,
   "metadata": {},
   "outputs": [],
   "source": []
  },
  {
   "cell_type": "code",
   "execution_count": null,
   "metadata": {},
   "outputs": [],
   "source": []
  },
  {
   "cell_type": "markdown",
   "metadata": {},
   "source": [
    "**TAREA:  Ahora grafique estos resultados con una gráfica de dispersión, etiquedados por su país respectivo.**\n",
    "\n",
    "¿Se nota ya algún país que difiera de los otros?  ¿Cuál?"
   ]
  },
  {
   "cell_type": "code",
   "execution_count": null,
   "metadata": {},
   "outputs": [],
   "source": [
    "#SU CODIGO AQUI"
   ]
  },
  {
   "cell_type": "code",
   "execution_count": null,
   "metadata": {},
   "outputs": [],
   "source": []
  },
  {
   "cell_type": "markdown",
   "metadata": {},
   "source": [
    "Al regresar a ver los datos en la tabla, esto tiene sentido: los Nor-Irlandeses comen mucho más gramos de papas frescas y mucho menos de frutas frescas, queso, pescado y bebidad alcohólicas.\n",
    "\n",
    "Es buena seña que la estructura que se visualiza refleje un hecho grande de la geografía real:  Irlanda del Norte es el único de los cuatro países que no están en la isla de Gran Bretaña. (Si tiene confusión entre Inglaterra, el Reino Unido y Gran Bretaña, vea: este [video](https://www.youtube.com/watch?v=rNu8XDBSn10).)"
   ]
  },
  {
   "cell_type": "code",
   "execution_count": null,
   "metadata": {},
   "outputs": [],
   "source": []
  }
 ],
 "metadata": {
  "kernelspec": {
   "display_name": "Python 3",
   "language": "python",
   "name": "python3"
  },
  "language_info": {
   "codemirror_mode": {
    "name": "ipython",
    "version": 3
   },
   "file_extension": ".py",
   "mimetype": "text/x-python",
   "name": "python",
   "nbconvert_exporter": "python",
   "pygments_lexer": "ipython3",
   "version": "3.7.4"
  }
 },
 "nbformat": 4,
 "nbformat_minor": 4
}
